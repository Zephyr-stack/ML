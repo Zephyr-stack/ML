{
  "nbformat": 4,
  "nbformat_minor": 0,
  "metadata": {
    "colab": {
      "name": "TensorflowCIFARclassifier.ipynb",
      "provenance": [],
      "collapsed_sections": [],
      "authorship_tag": "ABX9TyO++f7CyXwWf0M5fhTk0w1f",
      "include_colab_link": true
    },
    "kernelspec": {
      "name": "python3",
      "display_name": "Python 3"
    }
  },
  "cells": [
    {
      "cell_type": "markdown",
      "metadata": {
        "id": "view-in-github",
        "colab_type": "text"
      },
      "source": [
        "<a href=\"https://colab.research.google.com/github/Zephyr-stack/ML/blob/main/TensorflowCIFARclassifier.ipynb\" target=\"_parent\"><img src=\"https://colab.research.google.com/assets/colab-badge.svg\" alt=\"Open In Colab\"/></a>"
      ]
    },
    {
      "cell_type": "markdown",
      "metadata": {
        "id": "K54s9UA4qD6h"
      },
      "source": [
        "This is a project on image classification using keras API.\n",
        "The dataset  used here is CIFAR"
      ]
    },
    {
      "cell_type": "markdown",
      "metadata": {
        "id": "Wc9NIW9MqWEY"
      },
      "source": [
        "Importing the relevant libraries"
      ]
    },
    {
      "cell_type": "code",
      "metadata": {
        "id": "qWQOyOc8kIjX"
      },
      "source": [
        "import tensorflow as tf\n",
        "from tensorflow.keras import datasets\n",
        "from tensorflow.keras.layers import Activation,Dense,Conv2D,MaxPool2D,Flatten,BatchNormalization\n",
        "from tensorflow.keras.models import Sequential\n",
        "from tensorflow.keras.optimizers import Adam\n",
        "from tensorflow.keras.losses import SparseCategoricalCrossentropy"
      ],
      "execution_count": 2,
      "outputs": []
    },
    {
      "cell_type": "markdown",
      "metadata": {
        "id": "Eh_tnv04qbDy"
      },
      "source": [
        "Importing the dataset and splitting it in training and validation datasets."
      ]
    },
    {
      "cell_type": "code",
      "metadata": {
        "colab": {
          "base_uri": "https://localhost:8080/"
        },
        "id": "JlneWvfmkgBp",
        "outputId": "5a81076a-b079-46e9-b838-05ba90861acd"
      },
      "source": [
        "(train_images,train_labels),(valid_images,valid_labels)=datasets.cifar10.load_data()\n",
        "train_images,valid_images=train_images/255,valid_images/255"
      ],
      "execution_count": 3,
      "outputs": [
        {
          "output_type": "stream",
          "text": [
            "Downloading data from https://www.cs.toronto.edu/~kriz/cifar-10-python.tar.gz\n",
            "170500096/170498071 [==============================] - 2s 0us/step\n"
          ],
          "name": "stdout"
        }
      ]
    },
    {
      "cell_type": "markdown",
      "metadata": {
        "id": "mN2zHGw6rLj9"
      },
      "source": [
        "There are 50,000 images for training and 10,000 images for validation(which is not a lot for imnages classification)"
      ]
    },
    {
      "cell_type": "code",
      "metadata": {
        "id": "KH447DvXq8lG",
        "outputId": "130329d9-cf33-403c-c1ac-98daa37ffbe8",
        "colab": {
          "base_uri": "https://localhost:8080/"
        }
      },
      "source": [
        "print(train_images.shape)\n",
        "print(valid_images.shape)"
      ],
      "execution_count": 4,
      "outputs": [
        {
          "output_type": "stream",
          "text": [
            "(50000, 32, 32, 3)\n",
            "(10000, 32, 32, 3)\n"
          ],
          "name": "stdout"
        }
      ]
    },
    {
      "cell_type": "markdown",
      "metadata": {
        "id": "vKtCU0JBrZme"
      },
      "source": [
        "Making our Convolutional Neural Network"
      ]
    },
    {
      "cell_type": "code",
      "metadata": {
        "id": "ar5wvdBhkjKe"
      },
      "source": [
        "model=Sequential([\n",
        "    Conv2D(filters=32,kernel_size=(3,3),activation='relu',input_shape=(32,32,3),padding='same'),\n",
        "    MaxPool2D(pool_size=(2,2)),\n",
        "    Conv2D(filters=64,kernel_size=(3,3),activation='relu',padding='same'),\n",
        "    MaxPool2D(pool_size=(2,2)),\n",
        "    Conv2D(filters=64,kernel_size=(3,3),activation='relu',padding='same'),\n",
        "    MaxPool2D(pool_size=(2,2)),\n",
        "    Conv2D(filters=64,kernel_size=(3,3),activation='relu',padding='same'),\n",
        "    MaxPool2D(pool_size=(2,2)),\n",
        "    Flatten(),\n",
        "    Dense(units=64,activation='relu'),\n",
        "    Dense(units=10,activation='softmax')\n",
        "]    \n",
        ")"
      ],
      "execution_count": 6,
      "outputs": []
    },
    {
      "cell_type": "code",
      "metadata": {
        "colab": {
          "base_uri": "https://localhost:8080/"
        },
        "id": "Jyt9J9Kekm35",
        "outputId": "d9d3a269-3686-449f-d7f3-9dedf35597f3"
      },
      "source": [
        "model.summary()"
      ],
      "execution_count": 7,
      "outputs": [
        {
          "output_type": "stream",
          "text": [
            "Model: \"sequential_1\"\n",
            "_________________________________________________________________\n",
            "Layer (type)                 Output Shape              Param #   \n",
            "=================================================================\n",
            "conv2d_4 (Conv2D)            (None, 32, 32, 32)        896       \n",
            "_________________________________________________________________\n",
            "max_pooling2d_4 (MaxPooling2 (None, 16, 16, 32)        0         \n",
            "_________________________________________________________________\n",
            "conv2d_5 (Conv2D)            (None, 16, 16, 64)        18496     \n",
            "_________________________________________________________________\n",
            "max_pooling2d_5 (MaxPooling2 (None, 8, 8, 64)          0         \n",
            "_________________________________________________________________\n",
            "conv2d_6 (Conv2D)            (None, 8, 8, 64)          36928     \n",
            "_________________________________________________________________\n",
            "max_pooling2d_6 (MaxPooling2 (None, 4, 4, 64)          0         \n",
            "_________________________________________________________________\n",
            "conv2d_7 (Conv2D)            (None, 4, 4, 64)          36928     \n",
            "_________________________________________________________________\n",
            "max_pooling2d_7 (MaxPooling2 (None, 2, 2, 64)          0         \n",
            "_________________________________________________________________\n",
            "flatten_1 (Flatten)          (None, 256)               0         \n",
            "_________________________________________________________________\n",
            "dense_2 (Dense)              (None, 64)                16448     \n",
            "_________________________________________________________________\n",
            "dense_3 (Dense)              (None, 10)                650       \n",
            "=================================================================\n",
            "Total params: 110,346\n",
            "Trainable params: 110,346\n",
            "Non-trainable params: 0\n",
            "_________________________________________________________________\n"
          ],
          "name": "stdout"
        }
      ]
    },
    {
      "cell_type": "code",
      "metadata": {
        "id": "Vg6_jrZdksia"
      },
      "source": [
        "model.compile(optimizer=Adam(lr=0.0001),loss=tf.keras.losses.SparseCategoricalCrossentropy(from_logits=True),metrics=['accuracy'])"
      ],
      "execution_count": 8,
      "outputs": []
    },
    {
      "cell_type": "markdown",
      "metadata": {
        "id": "p3AiJAYyrqf4"
      },
      "source": [
        "Running our model on the data. The verbose parameter has been set to 2, therefore int shows us the training and validation accuracy at every step."
      ]
    },
    {
      "cell_type": "code",
      "metadata": {
        "colab": {
          "base_uri": "https://localhost:8080/"
        },
        "id": "rWgYrU9Lkwsn",
        "outputId": "de5c286c-e49b-4ddb-d8fe-9e6d7b7500fd"
      },
      "source": [
        "model.fit(x=train_images,y=train_labels,validation_data=(valid_images,valid_labels),epochs=25,verbose=2)"
      ],
      "execution_count": null,
      "outputs": [
        {
          "output_type": "stream",
          "text": [
            "Epoch 1/25\n",
            "1563/1563 - 101s - loss: 1.7524 - accuracy: 0.3622 - val_loss: 1.5247 - val_accuracy: 0.4456\n",
            "Epoch 2/25\n",
            "1563/1563 - 100s - loss: 1.4658 - accuracy: 0.4704 - val_loss: 1.3808 - val_accuracy: 0.4992\n",
            "Epoch 3/25\n"
          ],
          "name": "stdout"
        }
      ]
    }
  ]
}